{
 "cells": [
  {
   "cell_type": "markdown",
   "metadata": {},
   "source": [
    "# Classification: Language Detection\n",
    "\n",
    "Authors: Pierre Nugues and Marcus Klang"
   ]
  },
  {
   "cell_type": "markdown",
   "metadata": {},
   "source": [
    "In this programming assignment, you will design and train a classifier to predict the language of a text. More concretely, you will reimplement Google's _Compact language detector_ (CLD3) from a high-level description. Read the description here: https://github.com/google/cld3"
   ]
  },
  {
   "cell_type": "markdown",
   "metadata": {},
   "source": [
    "## Overview"
   ]
  },
  {
   "cell_type": "markdown",
   "metadata": {},
   "source": [
    "Your classifier will read a short text, typically a few words or a sentence, and output the probability for all languages observed during training. The text will have a variable length and will be encoded as a Unicode string.\n",
    "\n",
    "As dataset to train your models, you will use [Tatoeba](https://tatoeba.org/sv/), a collaborative, open, and free collection of sentences and translations."
   ]
  },
  {
   "cell_type": "markdown",
   "metadata": {},
   "source": [
    "You will break down the task into four steps:\n",
    "    \n",
    "  1. Data processing, converting the data into a machine-learnable representation\n",
    "  2. Try and evaluate a simple model, logistic regression. This will be your baseline.\n",
    "  3. Try and evaluate a deeper model inspired by Google's compact language detector, CLD3.\n",
    "  4. CLD3 includes an embedding vectorization. This last part is left as an optional exercise."
   ]
  },
  {
   "cell_type": "markdown",
   "metadata": {},
   "source": [
    "### The Model: CLD3"
   ]
  },
  {
   "cell_type": "markdown",
   "metadata": {},
   "source": [
    "CLD3 has three major characteristics:\n",
    "\n",
    "   * It uses **$n$-grams** and splits an input text like _banana_ into three feature vectors that include:\n",
    "       + Each unique character, unigrams ($n=1$)\n",
    "       + Each unique pair of characters obtained from a sliding window of size 2, bigrams ($n=2$)\n",
    "       + Each unique triple of characters obtained from a sliding window of size 3, trigrams ($n=3$)\n",
    "       + These feature sets map to a set of indices (integer value).\n",
    "   \n",
    "   * It **hashes each symbol** i.e. it encrypts the $n$-gram into a fixed range integer.\n",
    "       + This way of mapping features to indices is called feature hashing or the *hashing trick*\n",
    "       + It reduces the number of symbols.\n",
    "       + Constant memory requirements, depends on the hash function -- commonly only a few constants.\n",
    "       + It is an approximate method as collisions can and will occur. Adjusting the size of the feature space i.e. the number of features to hash to, the collision probability can be reduced.\n",
    "   \n",
    "   * For each value of $n$, 1, 2, and 3, CLD3 computes the relative frequencies of the $n$-grams and **use them as weights**. See the figure below.\n",
    "       + The model can map the input indices to embedding vectors (this part is optional)\n",
    "       + It then computes the **weighted average** of the embeddings (this part is optional)\n",
    "       + The model learns the embeddings during training (also optional)\n",
    "       \n",
    "The figure below shows the final architecture."
   ]
  },
  {
   "cell_type": "markdown",
   "metadata": {},
   "source": [
    "![Model overview](https://raw.githubusercontent.com/google/cld3/master/model.png)\n",
    "Image source: https://github.com/google/cld3"
   ]
  },
  {
   "cell_type": "markdown",
   "metadata": {},
   "source": [
    "## Dataset: Tatoeba"
   ]
  },
  {
   "cell_type": "markdown",
   "metadata": {},
   "source": [
    "Your instructors have downsampled Tatoeba to reduce training times and guarantee that all the students have the same datasets.\n",
    "* Link to datasets: https://github.com/pnugues/edan96/tree/main/classification%20lab\n",
    "* Link to preprocessing notebook: https://github.com/pnugues/edan96/blob/main/programs/5-tatoeba_eda_select.ipynb\n",
    "\n",
    "You are only required to process the small dataset. The larger one may take take and be difficult to process on small computers."
   ]
  },
  {
   "cell_type": "markdown",
   "metadata": {},
   "source": [
    "## Preliminaries"
   ]
  },
  {
   "cell_type": "code",
   "execution_count": 1,
   "metadata": {},
   "outputs": [],
   "source": [
    "import random\n",
    "import hashlib\n",
    "from collections import Counter\n",
    "from tqdm import tqdm\n",
    "\n",
    "import torch\n",
    "from torch import nn\n",
    "from torch.utils.data import TensorDataset, DataLoader\n",
    "\n",
    "from sklearn.metrics import classification_report, confusion_matrix"
   ]
  },
  {
   "cell_type": "markdown",
   "metadata": {},
   "source": [
    "Uncomment these lines the first time run the notebook to download the dataset"
   ]
  },
  {
   "cell_type": "code",
   "execution_count": 2,
   "metadata": {},
   "outputs": [],
   "source": [
    "#!wget https://github.com/pnugues/edan96/raw/main/classification%20lab/small_dataset.zip\n",
    "#!wget https://github.com/pnugues/edan96/raw/main/classification%20lab/large_dataset.zip\n",
    "#!unzip -o small_dataset.zip\n",
    "#!unzip -o large_dataset.zip"
   ]
  },
  {
   "cell_type": "code",
   "execution_count": 3,
   "metadata": {},
   "outputs": [
    {
     "data": {
      "text/plain": [
       "<torch._C.Generator at 0x10e3857b0>"
      ]
     },
     "execution_count": 3,
     "metadata": {},
     "output_type": "execute_result"
    }
   ],
   "source": [
    "random.seed(4321)\n",
    "torch.manual_seed(4321)"
   ]
  },
  {
   "cell_type": "markdown",
   "metadata": {},
   "source": [
    "## Reading the Dataset"
   ]
  },
  {
   "cell_type": "code",
   "execution_count": 4,
   "metadata": {},
   "outputs": [],
   "source": [
    "FILENAME_TRAIN = 'train.tsv'\n",
    "FILENAME_VAL = 'val.tsv'\n",
    "FILENAME_TEST = 'test.tsv'"
   ]
  },
  {
   "cell_type": "code",
   "execution_count": 5,
   "metadata": {},
   "outputs": [],
   "source": [
    "SMALL_DATASET_PATH = 'small_dataset'\n",
    "LARGE_DATASET_PATH = 'large_dataset'"
   ]
  },
  {
   "cell_type": "markdown",
   "metadata": {},
   "source": [
    "## Settings\n",
    "You have here the most significant settings"
   ]
  },
  {
   "cell_type": "code",
   "execution_count": 6,
   "metadata": {},
   "outputs": [],
   "source": [
    "LARGE_DATASET = False # Use the small or large dataset\n",
    "REL_FREQ = True # How we represent the n-grams in the input vector: with their relative frequency or with a 1"
   ]
  },
  {
   "cell_type": "code",
   "execution_count": 7,
   "metadata": {},
   "outputs": [],
   "source": [
    "HIDDEN_LAYER = False  # Neural network with one hidden layer or logistic regression\n",
    "HIDDEN_DIM = 512 # Number of hidden dimensions of the neural network\n",
    "EPOCHS = 10 # Number of epochs\n",
    "BATCH_SIZE = 32 # How many examples we will use for an update in the gradient descent"
   ]
  },
  {
   "cell_type": "code",
   "execution_count": 8,
   "metadata": {},
   "outputs": [],
   "source": [
    "if LARGE_DATASET:\n",
    "    dataset_path = LARGE_DATASET_PATH\n",
    "else:\n",
    "    dataset_path = SMALL_DATASET_PATH\n",
    "    \n",
    "FILE_TRAIN = dataset_path + '/' + FILENAME_TRAIN\n",
    "FILE_VAL = dataset_path + '/' + FILENAME_VAL\n",
    "FILE_TEST = dataset_path + '/' + FILENAME_TEST"
   ]
  },
  {
   "cell_type": "markdown",
   "metadata": {},
   "source": [
    "We create a generator to read the datasets"
   ]
  },
  {
   "cell_type": "code",
   "execution_count": 9,
   "metadata": {},
   "outputs": [],
   "source": [
    "def file_reader(file):\n",
    "    with open(file, encoding='utf8', errors='ignore') as f:\n",
    "        for line in f:\n",
    "            row = line.strip()\n",
    "            yield tuple(row.split('\\t'))"
   ]
  },
  {
   "cell_type": "code",
   "execution_count": 10,
   "metadata": {},
   "outputs": [],
   "source": [
    "line_generator = file_reader(FILE_TRAIN)"
   ]
  },
  {
   "cell_type": "markdown",
   "metadata": {},
   "source": [
    "And we count the sentences per language"
   ]
  },
  {
   "cell_type": "code",
   "execution_count": 11,
   "metadata": {},
   "outputs": [],
   "source": [
    "lang_freqs = Counter(map(lambda x: x[1], line_generator))"
   ]
  },
  {
   "cell_type": "code",
   "execution_count": 12,
   "metadata": {},
   "outputs": [
    {
     "data": {
      "text/plain": [
       "[('rus', 886),\n",
       " ('mkd', 876),\n",
       " ('eng', 873),\n",
       " ('lat', 854),\n",
       " ('swc', 847),\n",
       " ('tur', 844),\n",
       " ('tlh', 843),\n",
       " ('hun', 838),\n",
       " ('vie', 832),\n",
       " ('epo', 830),\n",
       " ('jpn', 830),\n",
       " ('nld', 826),\n",
       " ('lfn', 824),\n",
       " ('deu', 821),\n",
       " ('ces', 814)]"
      ]
     },
     "execution_count": 12,
     "metadata": {},
     "output_type": "execute_result"
    }
   ],
   "source": [
    "lang_freqs.most_common(15)"
   ]
  },
  {
   "cell_type": "code",
   "execution_count": 13,
   "metadata": {},
   "outputs": [
    {
     "data": {
      "text/plain": [
       "['ara', 'ber', 'bul', 'ces', 'cmn', 'dan', 'deu', 'ell', 'eng', 'epo']"
      ]
     },
     "execution_count": 13,
     "metadata": {},
     "output_type": "execute_result"
    }
   ],
   "source": [
    "langs = sorted(list(set(lang_freqs.keys())))\n",
    "langs[:10]"
   ]
  },
  {
   "cell_type": "markdown",
   "metadata": {},
   "source": [
    "You will create an index of the languages of your dataset: Assign a number to each language. You will call it `idx2lang` and its type will be a dictionary."
   ]
  },
  {
   "cell_type": "code",
   "execution_count": 14,
   "metadata": {},
   "outputs": [],
   "source": [
    "# Write your code\n",
    "idx2lang = {n : l  for n, l in zip(range(len(langs)), langs)}"
   ]
  },
  {
   "cell_type": "code",
   "execution_count": 15,
   "metadata": {},
   "outputs": [
    {
     "data": {
      "text/plain": [
       "{0: 'ara',\n",
       " 1: 'ber',\n",
       " 2: 'bul',\n",
       " 3: 'ces',\n",
       " 4: 'cmn',\n",
       " 5: 'dan',\n",
       " 6: 'deu',\n",
       " 7: 'ell',\n",
       " 8: 'eng',\n",
       " 9: 'epo',\n",
       " 10: 'fin',\n",
       " 11: 'fra',\n",
       " 12: 'hau',\n",
       " 13: 'heb',\n",
       " 14: 'hun',\n",
       " 15: 'ina',\n",
       " 16: 'ita',\n",
       " 17: 'jpn',\n",
       " 18: 'kab',\n",
       " 19: 'lat',\n",
       " 20: 'lfn',\n",
       " 21: 'lit',\n",
       " 22: 'mar',\n",
       " 23: 'mkd',\n",
       " 24: 'nld',\n",
       " 25: 'pes',\n",
       " 26: 'pol',\n",
       " 27: 'por',\n",
       " 28: 'ron',\n",
       " 29: 'rus',\n",
       " 30: 'spa',\n",
       " 31: 'srp',\n",
       " 32: 'swc',\n",
       " 33: 'swe',\n",
       " 34: 'tlh',\n",
       " 35: 'tok',\n",
       " 36: 'tur',\n",
       " 37: 'ukr',\n",
       " 38: 'vie'}"
      ]
     },
     "execution_count": 15,
     "metadata": {},
     "output_type": "execute_result"
    }
   ],
   "source": [
    "idx2lang"
   ]
  },
  {
   "cell_type": "markdown",
   "metadata": {},
   "source": [
    "Write the reverted `lang2idx` index to convert languages to indices. It is also a dictionary"
   ]
  },
  {
   "cell_type": "code",
   "execution_count": 16,
   "metadata": {},
   "outputs": [],
   "source": [
    "# Write your code\n",
    "lang2idx = { lang : idx for idx, lang in idx2lang.items()}"
   ]
  },
  {
   "cell_type": "code",
   "execution_count": 17,
   "metadata": {},
   "outputs": [
    {
     "data": {
      "text/plain": [
       "{'ara': 0,\n",
       " 'ber': 1,\n",
       " 'bul': 2,\n",
       " 'ces': 3,\n",
       " 'cmn': 4,\n",
       " 'dan': 5,\n",
       " 'deu': 6,\n",
       " 'ell': 7,\n",
       " 'eng': 8,\n",
       " 'epo': 9,\n",
       " 'fin': 10,\n",
       " 'fra': 11,\n",
       " 'hau': 12,\n",
       " 'heb': 13,\n",
       " 'hun': 14,\n",
       " 'ina': 15,\n",
       " 'ita': 16,\n",
       " 'jpn': 17,\n",
       " 'kab': 18,\n",
       " 'lat': 19,\n",
       " 'lfn': 20,\n",
       " 'lit': 21,\n",
       " 'mar': 22,\n",
       " 'mkd': 23,\n",
       " 'nld': 24,\n",
       " 'pes': 25,\n",
       " 'pol': 26,\n",
       " 'por': 27,\n",
       " 'ron': 28,\n",
       " 'rus': 29,\n",
       " 'spa': 30,\n",
       " 'srp': 31,\n",
       " 'swc': 32,\n",
       " 'swe': 33,\n",
       " 'tlh': 34,\n",
       " 'tok': 35,\n",
       " 'tur': 36,\n",
       " 'ukr': 37,\n",
       " 'vie': 38}"
      ]
     },
     "execution_count": 17,
     "metadata": {},
     "output_type": "execute_result"
    }
   ],
   "source": [
    "lang2idx"
   ]
  },
  {
   "cell_type": "markdown",
   "metadata": {},
   "source": [
    "## Data processing — convert the sentences into feature vectors"
   ]
  },
  {
   "cell_type": "markdown",
   "metadata": {},
   "source": [
    "For the context of this program, a feature is a string of 1 to 3 characters. \n",
    "In natural language processing, they are called $n$-grams as they can have a varying size and are created from a sliding window.\n",
    "\n",
    "Common sizes of $n$ have names unigrams ($n$=1), bigrams ($n$=2), and trigrams ($n$=3))\n",
    "\n",
    "To serve as input, we have to convert these $n$-grams to numbers. There are two common ways to encode features into indices:\n",
    " * Mapping each symbol to an index\n",
    "    + Exact and precise\n",
    "    + Can have high memory requirements with vast feature spaces as each known feature must be stored and be assigned a unique index.\n",
    "    + Slow, you need to precompute your feature space, convert the incoming data to an index and retain the mapping in memory at all times.\n",
    " * Hashing trick: hash the feature into a index\n",
    "    + Supports an arbitrary number of features with the caveat of collisions.\n",
    "    + Constant memory requirements\n",
    "    + Fast, any feature even an unknown one can be converted into a feature index\n",
    "    + However, if the feature space is too small, features will have many collisions. You have then to choose a good hash function and a feature space that is big enough\n",
    "    \n",
    "We will use the [hashing trick](https://en.wikipedia.org/wiki/Feature_hashing). In Python, `hash` is a function that converts any supported object into a number (hash code) but it is not reproducible across the sessions - it changes each time the interpreter is started.\n",
    "We have therefore provided a new function `reproducible_hash` that hashes a string but in a reproducible way.\n",
    "\n",
    "The number returned by `reproducible_hash` is big and needs to be converted into a limited space. This can be done with the use of the remainder of an integer division, the [modulo](https://en.wikipedia.org/wiki/Modulo_operation)."
   ]
  },
  {
   "cell_type": "markdown",
   "metadata": {},
   "source": [
    "### Extracting $n$-grams"
   ]
  },
  {
   "cell_type": "markdown",
   "metadata": {},
   "source": [
    "Create an $n$-gram function that returns the $n$-grams of a string. The $n$ value will be passed as an argument. You will optionally set the string in lower case (`lc` argument)."
   ]
  },
  {
   "cell_type": "code",
   "execution_count": 18,
   "metadata": {},
   "outputs": [],
   "source": [
    "# Write your code here\n",
    "def ngrams(sentence, n=1, lc=True):\n",
    "    ngram_l = []\n",
    "\n",
    "    for i in range(len(sentence) -(n -1)):\n",
    "        ngram = sentence[i:i+n] if not lc else sentence[i:i+n].lower()\n",
    "        ngram_l.append(ngram)\n",
    "\n",
    "    return ngram_l"
   ]
  },
  {
   "cell_type": "code",
   "execution_count": 19,
   "metadata": {},
   "outputs": [],
   "source": [
    "def all_ngrams(sentence, max_ngram=3, lc=True):\n",
    "    all_ngram_list = []\n",
    "    for i in range(1, max_ngram + 1):\n",
    "        all_ngram_list += [ngrams(sentence, n=i, lc=lc)]\n",
    "    return all_ngram_list"
   ]
  },
  {
   "cell_type": "code",
   "execution_count": 20,
   "metadata": {},
   "outputs": [
    {
     "data": {
      "text/plain": [
       "[['b',\n",
       "  'a',\n",
       "  'n',\n",
       "  'a',\n",
       "  'n',\n",
       "  'a',\n",
       "  ' ',\n",
       "  'i',\n",
       "  's',\n",
       "  ' ',\n",
       "  'g',\n",
       "  'o',\n",
       "  'o',\n",
       "  'd',\n",
       "  ' ',\n",
       "  'f',\n",
       "  'o',\n",
       "  'r',\n",
       "  ' ',\n",
       "  'g',\n",
       "  'o',\n",
       "  'r',\n",
       "  'i',\n",
       "  'l',\n",
       "  'l',\n",
       "  'a',\n",
       "  's'],\n",
       " ['ba',\n",
       "  'an',\n",
       "  'na',\n",
       "  'an',\n",
       "  'na',\n",
       "  'a ',\n",
       "  ' i',\n",
       "  'is',\n",
       "  's ',\n",
       "  ' g',\n",
       "  'go',\n",
       "  'oo',\n",
       "  'od',\n",
       "  'd ',\n",
       "  ' f',\n",
       "  'fo',\n",
       "  'or',\n",
       "  'r ',\n",
       "  ' g',\n",
       "  'go',\n",
       "  'or',\n",
       "  'ri',\n",
       "  'il',\n",
       "  'll',\n",
       "  'la',\n",
       "  'as'],\n",
       " ['ban',\n",
       "  'ana',\n",
       "  'nan',\n",
       "  'ana',\n",
       "  'na ',\n",
       "  'a i',\n",
       "  ' is',\n",
       "  'is ',\n",
       "  's g',\n",
       "  ' go',\n",
       "  'goo',\n",
       "  'ood',\n",
       "  'od ',\n",
       "  'd f',\n",
       "  ' fo',\n",
       "  'for',\n",
       "  'or ',\n",
       "  'r g',\n",
       "  ' go',\n",
       "  'gor',\n",
       "  'ori',\n",
       "  'ril',\n",
       "  'ill',\n",
       "  'lla',\n",
       "  'las']]"
      ]
     },
     "execution_count": 20,
     "metadata": {},
     "output_type": "execute_result"
    }
   ],
   "source": [
    "all_ngrams('banana is good for gorillas')"
   ]
  },
  {
   "cell_type": "markdown",
   "metadata": {},
   "source": [
    "### Limiting the $n$-grams numbers"
   ]
  },
  {
   "cell_type": "markdown",
   "metadata": {},
   "source": [
    "We set the modulos"
   ]
  },
  {
   "cell_type": "code",
   "execution_count": 21,
   "metadata": {},
   "outputs": [],
   "source": [
    "if LARGE_DATASET:\n",
    "    MAX_CHARS = 2053\n",
    "    MAX_BIGRAMS = 4099\n",
    "    MAX_TRIGRAMS = 4099  #8192\n",
    "else:\n",
    "    MAX_CHARS = 521\n",
    "    MAX_BIGRAMS = 1031\n",
    "    MAX_TRIGRAMS = 1031 "
   ]
  },
  {
   "cell_type": "code",
   "execution_count": 22,
   "metadata": {},
   "outputs": [
    {
     "data": {
      "text/plain": [
       "2583"
      ]
     },
     "execution_count": 22,
     "metadata": {},
     "output_type": "execute_result"
    }
   ],
   "source": [
    "NUM_FEATURES = MAX_CHARS + MAX_BIGRAMS + MAX_TRIGRAMS\n",
    "NUM_FEATURES"
   ]
  },
  {
   "cell_type": "markdown",
   "metadata": {},
   "source": [
    "### Hash Codes"
   ]
  },
  {
   "cell_type": "code",
   "execution_count": 23,
   "metadata": {},
   "outputs": [],
   "source": [
    "def reproducible_hash(string):\n",
    "    \"\"\"\n",
    "    reproducible hash on any string\n",
    "    \n",
    "    Arguments:\n",
    "       string: python string object\n",
    "    \n",
    "    Returns:\n",
    "       signed int64\n",
    "    \"\"\"\n",
    "    \n",
    "    # We are using MD5 for speed not security.\n",
    "    h = hashlib.md5(string.encode(\"utf-8\"), usedforsecurity=False)\n",
    "    return int.from_bytes(h.digest()[0:8], 'big', signed=True)"
   ]
  },
  {
   "cell_type": "code",
   "execution_count": 24,
   "metadata": {},
   "outputs": [
    {
     "data": {
      "text/plain": [
       "[487, 876, 246, 876]"
      ]
     },
     "execution_count": 24,
     "metadata": {},
     "output_type": "execute_result"
    }
   ],
   "source": [
    "[reproducible_hash(x) % MAX_TRIGRAMS for x in all_ngrams('banana')[2]]"
   ]
  },
  {
   "cell_type": "code",
   "execution_count": 25,
   "metadata": {},
   "outputs": [],
   "source": [
    "MAXES = [MAX_CHARS, MAX_BIGRAMS, MAX_TRIGRAMS]"
   ]
  },
  {
   "cell_type": "markdown",
   "metadata": {},
   "source": [
    "Create a `hash_ngrams` function that creates a list of hash codes from a list of $n$-grams. As arguments, you will have the list of $n$-grams as well as the list of dividers (`MAXES`). See the example below"
   ]
  },
  {
   "cell_type": "code",
   "execution_count": 26,
   "metadata": {},
   "outputs": [],
   "source": [
    "# Write your code\n",
    "def hash_ngrams(ngrams, modulos):\n",
    "    hash_codes = [[reproducible_hash(x) % mod for x in gram] for gram, mod in zip(ngrams, modulos)]   \n",
    "    \n",
    "    return hash_codes"
   ]
  },
  {
   "cell_type": "code",
   "execution_count": 27,
   "metadata": {},
   "outputs": [
    {
     "data": {
      "text/plain": [
       "[[25, 234, 310, 234, 310, 234],\n",
       " [994, 649, 808, 649, 808],\n",
       " [487, 876, 246, 876]]"
      ]
     },
     "execution_count": 27,
     "metadata": {},
     "output_type": "execute_result"
    }
   ],
   "source": [
    "hash_banana = hash_ngrams(all_ngrams('banana'), MAXES)\n",
    "hash_banana"
   ]
  },
  {
   "cell_type": "markdown",
   "metadata": {},
   "source": [
    "### Hash codes relative frequencies\n",
    "CLD3 associates the $n$-gram hash codes with their relative frequencies in the text. See the example in Google CLD3 page.\n",
    "\n",
    "Create a `rel_freqs` function that computes the frequencies from lists of hash codes. The input will be a list of three lists of hash codes, for the unigrams, bigrams, and trigrams. The output will be a list of a three dictionaries, where the keys will be the $n$-gram hash codes and the values, the relative frequency. See example. "
   ]
  },
  {
   "cell_type": "code",
   "execution_count": 28,
   "metadata": {},
   "outputs": [],
   "source": [
    "# Write your code\n",
    "def rel_freqs(lst):\n",
    "    return dict(Counter(lst))"
   ]
  },
  {
   "cell_type": "code",
   "execution_count": 29,
   "metadata": {},
   "outputs": [
    {
     "data": {
      "text/plain": [
       "[{25: 1, 234: 3, 310: 2}, {994: 1, 649: 2, 808: 2}, {487: 1, 876: 2, 246: 1}]"
      ]
     },
     "execution_count": 29,
     "metadata": {},
     "output_type": "execute_result"
    }
   ],
   "source": [
    "freqs_banana = [rel_freqs(x) for x in hash_banana]\n",
    "freqs_banana"
   ]
  },
  {
   "cell_type": "markdown",
   "metadata": {},
   "source": [
    "## Multihot vectors"
   ]
  },
  {
   "cell_type": "markdown",
   "metadata": {},
   "source": [
    "Write a `multihot` function that creates a torch vector of 0.0 and 1.0 from a dictionary of indices and frequencies. You will pass the size of the vector as an argument. All the indices in the dictionary will be set to 1.0 and the rest will be set to 0.0"
   ]
  },
  {
   "cell_type": "code",
   "execution_count": 30,
   "metadata": {},
   "outputs": [],
   "source": [
    "# Write your code here\n",
    "def multihot(idx_freq, max):\n",
    "    feat_vector = torch.zeros(max)\n",
    "    \n",
    "    for idx, _ in idx_freq.items():\n",
    "        feat_vector[idx] = 1\n",
    "\n",
    "    return feat_vector"
   ]
  },
  {
   "cell_type": "code",
   "execution_count": 31,
   "metadata": {},
   "outputs": [
    {
     "data": {
      "text/plain": [
       "tensor([0., 0., 0., 0., 0., 0., 0., 0., 0., 0., 0., 0., 0., 0., 0., 0., 0., 0.,\n",
       "        0., 0., 0., 0., 0., 0., 0., 1., 0., 0., 0., 0., 0., 0., 0., 0., 0., 0.,\n",
       "        0., 0., 0., 0., 0., 0., 0., 0., 0., 0., 0., 0., 0., 0., 0., 0., 0., 0.,\n",
       "        0., 0., 0., 0., 0., 0., 0., 0., 0., 0., 0., 0., 0., 0., 0., 0., 0., 0.,\n",
       "        0., 0., 0., 0., 0., 0., 0., 0., 0., 0., 0., 0., 0., 0., 0., 0., 0., 0.,\n",
       "        0., 0., 0., 0., 0., 0., 0., 0., 0., 0., 0., 0., 0., 0., 0., 0., 0., 0.,\n",
       "        0., 0., 0., 0., 0., 0., 0., 0., 0., 0., 0., 0., 0., 0., 0., 0., 0., 0.,\n",
       "        0., 0., 0., 0., 0., 0., 0., 0., 0., 0., 0., 0., 0., 0., 0., 0., 0., 0.,\n",
       "        0., 0., 0., 0., 0., 0., 0., 0., 0., 0., 0., 0., 0., 0., 0., 0., 0., 0.,\n",
       "        0., 0., 0., 0., 0., 0., 0., 0., 0., 0., 0., 0., 0., 0., 0., 0., 0., 0.,\n",
       "        0., 0., 0., 0., 0., 0., 0., 0., 0., 0., 0., 0., 0., 0., 0., 0., 0., 0.,\n",
       "        0., 0., 0., 0., 0., 0., 0., 0., 0., 0., 0., 0., 0., 0., 0., 0., 0., 0.,\n",
       "        0., 0., 0., 0., 0., 0., 0., 0., 0., 0., 0., 0., 0., 0., 0., 0., 0., 0.,\n",
       "        1., 0., 0., 0., 0., 0., 0., 0., 0., 0., 0., 0., 0., 0., 0., 0., 0., 0.,\n",
       "        0., 0., 0., 0., 0., 0., 0., 0., 0., 0., 0., 0., 0., 0., 0., 0., 0., 0.,\n",
       "        0., 0., 0., 0., 0., 0., 0., 0., 0., 0., 0., 0., 0., 0., 0., 0., 0., 0.,\n",
       "        0., 0., 0., 0., 0., 0., 0., 0., 0., 0., 0., 0., 0., 0., 0., 0., 0., 0.,\n",
       "        0., 0., 0., 0., 1., 0., 0., 0., 0., 0., 0., 0., 0., 0., 0., 0., 0., 0.,\n",
       "        0., 0., 0., 0., 0., 0., 0., 0., 0., 0., 0., 0., 0., 0., 0., 0., 0., 0.,\n",
       "        0., 0., 0., 0., 0., 0., 0., 0., 0., 0., 0., 0., 0., 0., 0., 0., 0., 0.,\n",
       "        0., 0., 0., 0., 0., 0., 0., 0., 0., 0., 0., 0., 0., 0., 0., 0., 0., 0.,\n",
       "        0., 0., 0., 0., 0., 0., 0., 0., 0., 0., 0., 0., 0., 0., 0., 0., 0., 0.,\n",
       "        0., 0., 0., 0., 0., 0., 0., 0., 0., 0., 0., 0., 0., 0., 0., 0., 0., 0.,\n",
       "        0., 0., 0., 0., 0., 0., 0., 0., 0., 0., 0., 0., 0., 0., 0., 0., 0., 0.,\n",
       "        0., 0., 0., 0., 0., 0., 0., 0., 0., 0., 0., 0., 0., 0., 0., 0., 0., 0.,\n",
       "        0., 0., 0., 0., 0., 0., 0., 0., 0., 0., 0., 0., 0., 0., 0., 0., 0., 0.,\n",
       "        0., 0., 0., 0., 0., 0., 0., 0., 0., 0., 0., 0., 0., 0., 0., 0., 0., 0.,\n",
       "        0., 0., 0., 0., 0., 0., 0., 0., 0., 0., 0., 0., 0., 0., 0., 0., 0., 0.,\n",
       "        0., 0., 0., 0., 0., 0., 0., 0., 0., 0., 0., 0., 0., 0., 0., 0., 0.])"
      ]
     },
     "execution_count": 31,
     "metadata": {},
     "output_type": "execute_result"
    }
   ],
   "source": [
    "mhot_char_banana = multihot(freqs_banana[0], MAX_CHARS)\n",
    "mhot_char_banana"
   ]
  },
  {
   "cell_type": "code",
   "execution_count": 32,
   "metadata": {},
   "outputs": [
    {
     "data": {
      "text/plain": [
       "tensor([[ 25],\n",
       "        [234],\n",
       "        [310]])"
      ]
     },
     "execution_count": 32,
     "metadata": {},
     "output_type": "execute_result"
    }
   ],
   "source": [
    "torch.nonzero(mhot_char_banana)"
   ]
  },
  {
   "cell_type": "code",
   "execution_count": 33,
   "metadata": {},
   "outputs": [
    {
     "data": {
      "text/plain": [
       "tensor([0., 0., 0.,  ..., 0., 0., 0.])"
      ]
     },
     "execution_count": 33,
     "metadata": {},
     "output_type": "execute_result"
    }
   ],
   "source": [
    "mhot_bigram_banana = multihot(freqs_banana[1], MAX_BIGRAMS)\n",
    "mhot_bigram_banana"
   ]
  },
  {
   "cell_type": "code",
   "execution_count": 34,
   "metadata": {},
   "outputs": [
    {
     "data": {
      "text/plain": [
       "tensor([[649],\n",
       "        [808],\n",
       "        [994]])"
      ]
     },
     "execution_count": 34,
     "metadata": {},
     "output_type": "execute_result"
    }
   ],
   "source": [
    "torch.nonzero(mhot_bigram_banana)"
   ]
  },
  {
   "cell_type": "code",
   "execution_count": 35,
   "metadata": {},
   "outputs": [
    {
     "data": {
      "text/plain": [
       "tensor([0., 0., 0.,  ..., 0., 0., 0.])"
      ]
     },
     "execution_count": 35,
     "metadata": {},
     "output_type": "execute_result"
    }
   ],
   "source": [
    "mhot_trigram_banana = multihot(freqs_banana[2], MAX_TRIGRAMS)\n",
    "mhot_trigram_banana"
   ]
  },
  {
   "cell_type": "code",
   "execution_count": 36,
   "metadata": {},
   "outputs": [
    {
     "data": {
      "text/plain": [
       "tensor([[246],\n",
       "        [487],\n",
       "        [876]])"
      ]
     },
     "execution_count": 36,
     "metadata": {},
     "output_type": "execute_result"
    }
   ],
   "source": [
    "torch.nonzero(mhot_trigram_banana)"
   ]
  },
  {
   "cell_type": "markdown",
   "metadata": {},
   "source": [
    "## Replacing Booleans with frequencies"
   ]
  },
  {
   "cell_type": "markdown",
   "metadata": {},
   "source": [
    "Write a `multihot_freq` function that creates a torch vector of frequencies from a dictionary of indices and frequencies. You will pass the size of the vector as an argument. All the indices in the dictionary will be set to the dictionary values (the relative frequencies) and the rest will be set to 0.0"
   ]
  },
  {
   "cell_type": "code",
   "execution_count": 37,
   "metadata": {},
   "outputs": [],
   "source": [
    "# Write your code\n",
    "def multihot_freq(idx_freq, max):\n",
    "    feat_vector = torch.zeros(max)\n",
    "    vals = sum(idx_freq.values())\n",
    "    for idx, freq in idx_freq.items():\n",
    "        feat_vector[idx] = freq / vals\n",
    "    return feat_vector"
   ]
  },
  {
   "cell_type": "code",
   "execution_count": 38,
   "metadata": {},
   "outputs": [
    {
     "data": {
      "text/plain": [
       "tensor([0.0000, 0.0000, 0.0000, 0.0000, 0.0000, 0.0000, 0.0000, 0.0000, 0.0000,\n",
       "        0.0000, 0.0000, 0.0000, 0.0000, 0.0000, 0.0000, 0.0000, 0.0000, 0.0000,\n",
       "        0.0000, 0.0000, 0.0000, 0.0000, 0.0000, 0.0000, 0.0000, 0.1667, 0.0000,\n",
       "        0.0000, 0.0000, 0.0000, 0.0000, 0.0000, 0.0000, 0.0000, 0.0000, 0.0000,\n",
       "        0.0000, 0.0000, 0.0000, 0.0000, 0.0000, 0.0000, 0.0000, 0.0000, 0.0000,\n",
       "        0.0000, 0.0000, 0.0000, 0.0000, 0.0000, 0.0000, 0.0000, 0.0000, 0.0000,\n",
       "        0.0000, 0.0000, 0.0000, 0.0000, 0.0000, 0.0000, 0.0000, 0.0000, 0.0000,\n",
       "        0.0000, 0.0000, 0.0000, 0.0000, 0.0000, 0.0000, 0.0000, 0.0000, 0.0000,\n",
       "        0.0000, 0.0000, 0.0000, 0.0000, 0.0000, 0.0000, 0.0000, 0.0000, 0.0000,\n",
       "        0.0000, 0.0000, 0.0000, 0.0000, 0.0000, 0.0000, 0.0000, 0.0000, 0.0000,\n",
       "        0.0000, 0.0000, 0.0000, 0.0000, 0.0000, 0.0000, 0.0000, 0.0000, 0.0000,\n",
       "        0.0000, 0.0000, 0.0000, 0.0000, 0.0000, 0.0000, 0.0000, 0.0000, 0.0000,\n",
       "        0.0000, 0.0000, 0.0000, 0.0000, 0.0000, 0.0000, 0.0000, 0.0000, 0.0000,\n",
       "        0.0000, 0.0000, 0.0000, 0.0000, 0.0000, 0.0000, 0.0000, 0.0000, 0.0000,\n",
       "        0.0000, 0.0000, 0.0000, 0.0000, 0.0000, 0.0000, 0.0000, 0.0000, 0.0000,\n",
       "        0.0000, 0.0000, 0.0000, 0.0000, 0.0000, 0.0000, 0.0000, 0.0000, 0.0000,\n",
       "        0.0000, 0.0000, 0.0000, 0.0000, 0.0000, 0.0000, 0.0000, 0.0000, 0.0000,\n",
       "        0.0000, 0.0000, 0.0000, 0.0000, 0.0000, 0.0000, 0.0000, 0.0000, 0.0000,\n",
       "        0.0000, 0.0000, 0.0000, 0.0000, 0.0000, 0.0000, 0.0000, 0.0000, 0.0000,\n",
       "        0.0000, 0.0000, 0.0000, 0.0000, 0.0000, 0.0000, 0.0000, 0.0000, 0.0000,\n",
       "        0.0000, 0.0000, 0.0000, 0.0000, 0.0000, 0.0000, 0.0000, 0.0000, 0.0000,\n",
       "        0.0000, 0.0000, 0.0000, 0.0000, 0.0000, 0.0000, 0.0000, 0.0000, 0.0000,\n",
       "        0.0000, 0.0000, 0.0000, 0.0000, 0.0000, 0.0000, 0.0000, 0.0000, 0.0000,\n",
       "        0.0000, 0.0000, 0.0000, 0.0000, 0.0000, 0.0000, 0.0000, 0.0000, 0.0000,\n",
       "        0.0000, 0.0000, 0.0000, 0.0000, 0.0000, 0.0000, 0.0000, 0.0000, 0.0000,\n",
       "        0.0000, 0.0000, 0.0000, 0.0000, 0.0000, 0.0000, 0.0000, 0.0000, 0.0000,\n",
       "        0.5000, 0.0000, 0.0000, 0.0000, 0.0000, 0.0000, 0.0000, 0.0000, 0.0000,\n",
       "        0.0000, 0.0000, 0.0000, 0.0000, 0.0000, 0.0000, 0.0000, 0.0000, 0.0000,\n",
       "        0.0000, 0.0000, 0.0000, 0.0000, 0.0000, 0.0000, 0.0000, 0.0000, 0.0000,\n",
       "        0.0000, 0.0000, 0.0000, 0.0000, 0.0000, 0.0000, 0.0000, 0.0000, 0.0000,\n",
       "        0.0000, 0.0000, 0.0000, 0.0000, 0.0000, 0.0000, 0.0000, 0.0000, 0.0000,\n",
       "        0.0000, 0.0000, 0.0000, 0.0000, 0.0000, 0.0000, 0.0000, 0.0000, 0.0000,\n",
       "        0.0000, 0.0000, 0.0000, 0.0000, 0.0000, 0.0000, 0.0000, 0.0000, 0.0000,\n",
       "        0.0000, 0.0000, 0.0000, 0.0000, 0.0000, 0.0000, 0.0000, 0.0000, 0.0000,\n",
       "        0.0000, 0.0000, 0.0000, 0.0000, 0.3333, 0.0000, 0.0000, 0.0000, 0.0000,\n",
       "        0.0000, 0.0000, 0.0000, 0.0000, 0.0000, 0.0000, 0.0000, 0.0000, 0.0000,\n",
       "        0.0000, 0.0000, 0.0000, 0.0000, 0.0000, 0.0000, 0.0000, 0.0000, 0.0000,\n",
       "        0.0000, 0.0000, 0.0000, 0.0000, 0.0000, 0.0000, 0.0000, 0.0000, 0.0000,\n",
       "        0.0000, 0.0000, 0.0000, 0.0000, 0.0000, 0.0000, 0.0000, 0.0000, 0.0000,\n",
       "        0.0000, 0.0000, 0.0000, 0.0000, 0.0000, 0.0000, 0.0000, 0.0000, 0.0000,\n",
       "        0.0000, 0.0000, 0.0000, 0.0000, 0.0000, 0.0000, 0.0000, 0.0000, 0.0000,\n",
       "        0.0000, 0.0000, 0.0000, 0.0000, 0.0000, 0.0000, 0.0000, 0.0000, 0.0000,\n",
       "        0.0000, 0.0000, 0.0000, 0.0000, 0.0000, 0.0000, 0.0000, 0.0000, 0.0000,\n",
       "        0.0000, 0.0000, 0.0000, 0.0000, 0.0000, 0.0000, 0.0000, 0.0000, 0.0000,\n",
       "        0.0000, 0.0000, 0.0000, 0.0000, 0.0000, 0.0000, 0.0000, 0.0000, 0.0000,\n",
       "        0.0000, 0.0000, 0.0000, 0.0000, 0.0000, 0.0000, 0.0000, 0.0000, 0.0000,\n",
       "        0.0000, 0.0000, 0.0000, 0.0000, 0.0000, 0.0000, 0.0000, 0.0000, 0.0000,\n",
       "        0.0000, 0.0000, 0.0000, 0.0000, 0.0000, 0.0000, 0.0000, 0.0000, 0.0000,\n",
       "        0.0000, 0.0000, 0.0000, 0.0000, 0.0000, 0.0000, 0.0000, 0.0000, 0.0000,\n",
       "        0.0000, 0.0000, 0.0000, 0.0000, 0.0000, 0.0000, 0.0000, 0.0000, 0.0000,\n",
       "        0.0000, 0.0000, 0.0000, 0.0000, 0.0000, 0.0000, 0.0000, 0.0000, 0.0000,\n",
       "        0.0000, 0.0000, 0.0000, 0.0000, 0.0000, 0.0000, 0.0000, 0.0000, 0.0000,\n",
       "        0.0000, 0.0000, 0.0000, 0.0000, 0.0000, 0.0000, 0.0000, 0.0000, 0.0000,\n",
       "        0.0000, 0.0000, 0.0000, 0.0000, 0.0000, 0.0000, 0.0000, 0.0000, 0.0000,\n",
       "        0.0000, 0.0000, 0.0000, 0.0000, 0.0000, 0.0000, 0.0000, 0.0000, 0.0000,\n",
       "        0.0000, 0.0000, 0.0000, 0.0000, 0.0000, 0.0000, 0.0000, 0.0000, 0.0000,\n",
       "        0.0000, 0.0000, 0.0000, 0.0000, 0.0000, 0.0000, 0.0000, 0.0000, 0.0000,\n",
       "        0.0000, 0.0000, 0.0000, 0.0000, 0.0000, 0.0000, 0.0000, 0.0000])"
      ]
     },
     "execution_count": 38,
     "metadata": {},
     "output_type": "execute_result"
    }
   ],
   "source": [
    "freq_char_banana = multihot_freq(freqs_banana[0], MAX_CHARS)\n",
    "freq_char_banana"
   ]
  },
  {
   "cell_type": "code",
   "execution_count": 39,
   "metadata": {},
   "outputs": [
    {
     "data": {
      "text/plain": [
       "tensor([[ 25, 234, 310]])"
      ]
     },
     "execution_count": 39,
     "metadata": {},
     "output_type": "execute_result"
    }
   ],
   "source": [
    "torch.nonzero(freq_char_banana).T"
   ]
  },
  {
   "cell_type": "code",
   "execution_count": 40,
   "metadata": {},
   "outputs": [
    {
     "data": {
      "text/plain": [
       "tensor([[0.1667, 0.5000, 0.3333]])"
      ]
     },
     "execution_count": 40,
     "metadata": {},
     "output_type": "execute_result"
    }
   ],
   "source": [
    "freq_char_banana[torch.nonzero(freq_char_banana)].T"
   ]
  },
  {
   "cell_type": "markdown",
   "metadata": {},
   "source": [
    "## Creating $X$ and $\\mathbf{y}$ tensors"
   ]
  },
  {
   "cell_type": "markdown",
   "metadata": {},
   "source": [
    "We create a function to read the files and return the language and the sentence. We create the $X$ and $\\mathbf{y}$ tensors from them."
   ]
  },
  {
   "cell_type": "code",
   "execution_count": 41,
   "metadata": {},
   "outputs": [],
   "source": [
    "def read_sent_lang(file):\n",
    "    with open(file, encoding='utf8', errors='ignore') as f:\n",
    "        for line in f:\n",
    "            row = line.strip()\n",
    "            lang_tuple = tuple(row.split('\\t'))\n",
    "            yield lang_tuple[2], lang_tuple[1]   "
   ]
  },
  {
   "cell_type": "markdown",
   "metadata": {},
   "source": [
    "The code below creates a $X$ and $\\mathbf{y}$ tensors. Note that $X$ is a matrix and $\\mathbf{y}$, a vector."
   ]
  },
  {
   "cell_type": "code",
   "execution_count": 42,
   "metadata": {},
   "outputs": [],
   "source": [
    "def create_Xy(file, multihot_func, lang2idx):\n",
    "    X_l = []\n",
    "    y_symb = []\n",
    "    line_cnt = 0\n",
    "    for sentence, lang in read_sent_lang(file):\n",
    "        line_cnt += 1\n",
    "    X = torch.empty((line_cnt, NUM_FEATURES))\n",
    "    for i, (sentence, lang) in tqdm(enumerate(read_sent_lang(file))):\n",
    "        hashes = hash_ngrams(all_ngrams(sentence), MAXES)\n",
    "        hash_freq_l = map(rel_freqs, hashes)\n",
    "        x_row_l = []\n",
    "        for hash_freq_dict, max in zip(hash_freq_l, MAXES):\n",
    "            x_row_l += [multihot_func(hash_freq_dict, max)]\n",
    "        X[i, :] = torch.cat(x_row_l, -1)\n",
    "        y_symb += [lang]\n",
    "    y = torch.LongTensor(list(map(lang2idx.get, y_symb)))\n",
    "    return X, y"
   ]
  },
  {
   "cell_type": "code",
   "execution_count": 43,
   "metadata": {},
   "outputs": [],
   "source": [
    "# def write_to_file(output, filename):\n",
    "#     output_np = output.numpy()\n",
    "#     with open(filename, 'w') as file:\n",
    "#         for row in output_np:\n",
    "#             file.write(' '.join(map(str, row)) + '\\n')\n",
    "\n",
    "\n",
    "# # Call the function\n",
    "# x, y = create_Xy(FILE_VAL, multihot_freq, lang2idx)\n",
    "\n",
    "# # Specify the filename where you want to save the output\n",
    "# x_name = 'x.txt'\n",
    "# y_name = 'y.txt'\n",
    "\n",
    "# # Write the output to the text file\n",
    "# write_to_file(x, x_name)\n",
    "# write_to_file(y, y_name)\n"
   ]
  },
  {
   "cell_type": "code",
   "execution_count": 44,
   "metadata": {},
   "outputs": [],
   "source": [
    "#print(x.size())"
   ]
  },
  {
   "cell_type": "code",
   "execution_count": 45,
   "metadata": {},
   "outputs": [
    {
     "name": "stderr",
     "output_type": "stream",
     "text": [
      "5553it [00:02, 2324.76it/s]"
     ]
    },
    {
     "name": "stderr",
     "output_type": "stream",
     "text": [
      "31376it [00:13, 2297.03it/s]\n",
      "3922it [00:01, 2297.76it/s]\n",
      "3923it [00:01, 2216.00it/s]\n"
     ]
    }
   ],
   "source": [
    "REL_FREQ = True\n",
    "if REL_FREQ:\n",
    "    X_train, y_train =  create_Xy(FILE_TRAIN, multihot_freq, lang2idx)\n",
    "    X_val, y_val =  create_Xy(FILE_VAL, multihot_freq, lang2idx)\n",
    "    X_test, y_test =  create_Xy(FILE_TEST, multihot_freq, lang2idx)\n",
    "else:\n",
    "    X_train, y_train =  create_Xy(FILE_TRAIN, multihot, lang2idx)\n",
    "    X_val, y_val =  create_Xy(FILE_VAL, multihot, lang2idx)\n",
    "    X_test, y_test =  create_Xy(FILE_TEST, multihot, lang2idx)"
   ]
  },
  {
   "cell_type": "code",
   "execution_count": 46,
   "metadata": {},
   "outputs": [
    {
     "data": {
      "text/plain": [
       "torch.Size([31376, 2583])"
      ]
     },
     "execution_count": 46,
     "metadata": {},
     "output_type": "execute_result"
    }
   ],
   "source": [
    "X_train.size()"
   ]
  },
  {
   "cell_type": "code",
   "execution_count": 47,
   "metadata": {},
   "outputs": [
    {
     "data": {
      "text/plain": [
       "tensor([37, 28, 25, 21, 15, 24,  9, 38, 21, 16])"
      ]
     },
     "execution_count": 47,
     "metadata": {},
     "output_type": "execute_result"
    }
   ],
   "source": [
    "y_train[:10]"
   ]
  },
  {
   "cell_type": "markdown",
   "metadata": {},
   "source": [
    "## Building a Classifier"
   ]
  },
  {
   "cell_type": "markdown",
   "metadata": {},
   "source": [
    "We create the classifier"
   ]
  },
  {
   "cell_type": "code",
   "execution_count": 48,
   "metadata": {},
   "outputs": [],
   "source": [
    "input_dim = X_train.size()[1]"
   ]
  },
  {
   "cell_type": "markdown",
   "metadata": {},
   "source": [
    "Write two model architectures using `nn.Sequential`. One corresponding to logistic regression and the other with one hidden layer."
   ]
  },
  {
   "cell_type": "code",
   "execution_count": 49,
   "metadata": {},
   "outputs": [],
   "source": [
    "# Write your code here\n",
    "HIDDEN_LAYER = True\n",
    "if HIDDEN_LAYER:\n",
    "    model = nn.Sequential(\n",
    "            nn.Linear(input_dim, HIDDEN_DIM),\n",
    "            nn.Linear(HIDDEN_DIM, 39),\n",
    "        )\n",
    "else:\n",
    "    model = nn.Sequential(\n",
    "            nn.Linear(input_dim, 39),\n",
    "        )"
   ]
  },
  {
   "cell_type": "code",
   "execution_count": 50,
   "metadata": {},
   "outputs": [
    {
     "data": {
      "text/plain": [
       "Sequential(\n",
       "  (0): Linear(in_features=2583, out_features=512, bias=True)\n",
       "  (1): Linear(in_features=512, out_features=39, bias=True)\n",
       ")"
      ]
     },
     "execution_count": 50,
     "metadata": {},
     "output_type": "execute_result"
    }
   ],
   "source": [
    "model"
   ]
  },
  {
   "cell_type": "markdown",
   "metadata": {},
   "source": [
    "We set the loss and the optimizer"
   ]
  },
  {
   "cell_type": "code",
   "execution_count": 51,
   "metadata": {},
   "outputs": [],
   "source": [
    "loss_fn = nn.CrossEntropyLoss()    # cross entropy loss\n",
    "#loss_fn = nn.NLLLoss()\n",
    "optimizer = torch.optim.NAdam(model.parameters(), lr=0.01)"
   ]
  },
  {
   "cell_type": "markdown",
   "metadata": {},
   "source": [
    "## Loading the dataset\n",
    "We use a data loader to supply the training loop with batches"
   ]
  },
  {
   "cell_type": "code",
   "execution_count": 52,
   "metadata": {},
   "outputs": [],
   "source": [
    "dataset = TensorDataset(X_train, y_train)\n",
    "dataloader = DataLoader(dataset, batch_size=BATCH_SIZE, shuffle=True)"
   ]
  },
  {
   "cell_type": "markdown",
   "metadata": {},
   "source": [
    "## Training the classifier\n",
    "We have a classifier. We now train it on the dataset"
   ]
  },
  {
   "cell_type": "markdown",
   "metadata": {},
   "source": [
    "Write the training loop"
   ]
  },
  {
   "cell_type": "code",
   "execution_count": 53,
   "metadata": {},
   "outputs": [
    {
     "name": "stdout",
     "output_type": "stream",
     "text": [
      "MPS device not found.\n"
     ]
    }
   ],
   "source": [
    "if torch.backends.mps.is_available():\n",
    "    mps_device = torch.device(\"mps\")\n",
    "    x = torch.ones(1, device=mps_device)\n",
    "    print (x)\n",
    "else:\n",
    "    print (\"MPS device not found.\")\n"
   ]
  },
  {
   "cell_type": "code",
   "execution_count": 68,
   "metadata": {},
   "outputs": [
    {
     "name": "stderr",
     "output_type": "stream",
     "text": [
      "100%|██████████| 16/16 [03:50<00:00, 14.43s/it]\n"
     ]
    }
   ],
   "source": [
    "# Write your code here\n",
    "dataset = TensorDataset(X_train, y_train)\n",
    "dataloader = DataLoader(dataset, batch_size=BATCH_SIZE, shuffle=True)\n",
    "eval_dataset = TensorDataset(X_val, y_val)\n",
    "eval_loader = DataLoader(eval_dataset, batch_size=BATCH_SIZE, shuffle=True)\n",
    "\n",
    "loss_train_history = []\n",
    "acc_train_history = []\n",
    "loss_val_history = []\n",
    "acc_val_history = []\n",
    "EPOCHS = 16\n",
    "for epoch in tqdm(range(EPOCHS)):\n",
    "    loss_train = 0\n",
    "    correct_train = 0\n",
    "\n",
    "    model.train()\n",
    "    for X_batch, y_batch in dataloader:\n",
    "        y_pred = model(X_batch)\n",
    "        loss = loss_fn(y_pred, y_batch)\n",
    "        optimizer.zero_grad()\n",
    "        loss.backward()\n",
    "        optimizer.step()\n",
    "\n",
    "        loss_train += loss.item()\n",
    "        y_pred = torch.softmax(y_pred, dim=1)\n",
    "        correct_train += sum(torch.argmax(y_pred, dim=1) == y_batch) / len(y_batch)\n",
    "    \n",
    "    loss_train_history.append(loss_train / len(dataloader))\n",
    "    acc_train_history.append(correct_train / len(dataloader))\n",
    "\n",
    "    loss_val = 0\n",
    "    correct_val = 0\n",
    "    model.eval()\n",
    "    \n",
    "    for X_batch, y_batch in eval_loader:\n",
    "        y_pred = model(X_batch)\n",
    "        loss = loss_fn(y_pred, y_batch)\n",
    "\n",
    "        loss_val += loss.item()\n",
    "        y_pred = torch.softmax(y_pred, dim=1)\n",
    "        correct_val += sum(torch.argmax(y_pred, dim=1) == y_batch) / len(y_batch)\n",
    "\n",
    "    loss_val_history.append(loss_val / len(eval_loader))\n",
    "    acc_val_history.append(correct_val / len(eval_loader))\n"
   ]
  },
  {
   "cell_type": "code",
   "execution_count": 71,
   "metadata": {},
   "outputs": [],
   "source": [
    "loss_val_history = []\n",
    "acc_val_history = []\n",
    "\n",
    "# Create DataLoader\n",
    "train_dataset = TensorDataset(X_train, y_train)\n",
    "train_loader = DataLoader(dataset, batch_size=BATCH_SIZE, shuffle=True)\n",
    "val_dataset = TensorDataset(X_val, y_val)\n",
    "val_loader = DataLoader(eval_dataset, batch_size=BATCH_SIZE, shuffle=True)\n",
    "\n",
    "\n",
    "# Training loop\n",
    "num_epochs = 10\n",
    "for epoch in range(num_epochs):\n",
    "    # Training\n",
    "    model.train()  # Set model to training mode\n",
    "    for X_batch, y_batch in train_loader:\n",
    "        optimizer.zero_grad()  # Zero the gradients\n",
    "        pred = model(X_batch)\n",
    "        loss = loss_fn(pred, y_batch)\n",
    "        loss.backward()  # Backward pass\n",
    "        optimizer.step()  # Update weights\n",
    "\n",
    "    # Validation\n",
    "    model.eval()  # Set model to evaluation mode\n",
    "    val_loss = 0.0\n",
    "    correct_val = 0\n",
    "    total_val = 0\n",
    "    with torch.no_grad():\n",
    "        for X_batch, y_batch in val_loader:\n",
    "            pred = model(X_batch)\n",
    "            loss = loss_fn(pred, y_batch)\n",
    "            val_loss += loss.item()\n",
    "            _, predicted = torch.max(pred, 1)\n",
    "            total_val += y_batch.size(0)\n",
    "            correct_val += (predicted == y_batch).sum().item()\n",
    "\n",
    "    loss_val_history.append(val_loss / len(val_loader))\n",
    "    acc_val_history.append(correct_val / total_val)\n",
    "\n",
    "\n"
   ]
  },
  {
   "cell_type": "markdown",
   "metadata": {},
   "source": [
    "We plot the loss"
   ]
  },
  {
   "cell_type": "code",
   "execution_count": 72,
   "metadata": {},
   "outputs": [
    {
     "data": {
      "image/png": "[encoded data removed]",
      "text/plain": [
       "<Figure size 640x480 with 1 Axes>"
      ]
     },
     "metadata": {},
     "output_type": "display_data"
    }
   ],
   "source": [
    "import matplotlib.pyplot as plt\n",
    "\n",
    "epochs = range(1, len(acc_val_history) + 1)\n",
    "plt.plot(epochs, acc_val_history, 'bo', label='Validation accuracy')\n",
    "plt.title('Validation accuracy')\n",
    "plt.legend()\n",
    "plt.show()"
   ]
  },
  {
   "cell_type": "markdown",
   "metadata": {},
   "source": [
    "## Predicting the test set\n",
    "Predict the whole test set. Call the resulting vector `y_test_pred`."
   ]
  },
  {
   "cell_type": "code",
   "execution_count": 73,
   "metadata": {},
   "outputs": [
    {
     "name": "stdout",
     "output_type": "stream",
     "text": [
      "Test set: \n",
      "               precision    recall  f1-score   support\n",
      "\n",
      "         ara     0.9886    0.9886    0.9886        88\n",
      "         ber     0.6311    0.7857    0.7000        98\n",
      "         bul     0.8396    0.8900    0.8641       100\n",
      "         ces     0.9885    0.9451    0.9663        91\n",
      "         cmn     0.9903    0.9808    0.9855       104\n",
      "         dan     0.9608    0.8829    0.9202       111\n",
      "         deu     0.8911    1.0000    0.9424        90\n",
      "         ell     1.0000    0.9906    0.9953       106\n",
      "         eng     0.9293    0.9485    0.9388        97\n",
      "         epo     0.9043    0.9770    0.9392        87\n",
      "         fin     0.9231    0.9908    0.9558       109\n",
      "         fra     0.9663    0.9348    0.9503        92\n",
      "         hau     0.9677    0.9375    0.9524        96\n",
      "         heb     1.0000    1.0000    1.0000        99\n",
      "         hun     0.9897    0.9697    0.9796        99\n",
      "         ina     0.8361    0.9714    0.8987       105\n",
      "         ita     0.9216    0.8952    0.9082       105\n",
      "         jpn     0.9892    0.9892    0.9892        93\n",
      "         kab     0.7531    0.5922    0.6630       103\n",
      "         lat     0.9870    0.9268    0.9560        82\n",
      "         lfn     0.9080    0.9080    0.9080        87\n",
      "         lit     1.0000    0.9444    0.9714        90\n",
      "         mar     1.0000    0.9912    0.9956       114\n",
      "         mkd     0.8367    0.8817    0.8586        93\n",
      "         nld     1.0000    0.9400    0.9691       100\n",
      "         pes     1.0000    0.9896    0.9948        96\n",
      "         pol     0.9823    0.9823    0.9823       113\n",
      "         por     0.9304    0.8992    0.9145       119\n",
      "         ron     0.9808    0.9273    0.9533       110\n",
      "         rus     0.9018    0.9352    0.9182       108\n",
      "         spa     0.9020    0.8679    0.8846       106\n",
      "         srp     0.8981    0.8151    0.8546       119\n",
      "         swc     0.9307    0.9691    0.9495        97\n",
      "         swe     0.9167    0.9340    0.9252       106\n",
      "         tlh     0.9802    0.9802    0.9802       101\n",
      "         tok     0.9910    0.9910    0.9910       111\n",
      "         tur     1.0000    0.9655    0.9825        87\n",
      "         ukr     0.9113    0.9417    0.9262       120\n",
      "         vie     1.0000    1.0000    1.0000        91\n",
      "\n",
      "    accuracy                         0.9337      3923\n",
      "   macro avg     0.9366    0.9349    0.9347      3923\n",
      "weighted avg     0.9360    0.9337    0.9338      3923\n",
      "\n"
     ]
    }
   ],
   "source": [
    "# Write your code\n",
    "def evaluate(message, mmodel, X, Y):\n",
    "    mmodel.eval()\n",
    "    y_test_pred = mmodel(X)\n",
    "    y_test_pred = torch.argmax(y_test_pred, dim=1)\n",
    "    print(message, \"\\n\",classification_report(Y, y_test_pred, target_names=langs, digits=4))\n",
    "    return y_test_pred\n",
    "\n",
    "\n",
    "y_test_pred = evaluate(\"Test set:\",model, X_test, y_test)\n",
    "\n",
    "#print(f\"10 first: {y_test_pred[:10]}\")"
   ]
  },
  {
   "cell_type": "code",
   "execution_count": 57,
   "metadata": {},
   "outputs": [
    {
     "name": "stdout",
     "output_type": "stream",
     "text": [
      "<torch.utils.data.dataset.TensorDataset object at 0x16bf4d3d0>\n"
     ]
    }
   ],
   "source": [
    "dataset = TensorDataset(X_train, y_train)\n",
    "print(dataset)"
   ]
  },
  {
   "cell_type": "code",
   "execution_count": 58,
   "metadata": {},
   "outputs": [
    {
     "data": {
      "text/plain": [
       "tensor([32,  1, 18, 37, 19, 35, 32, 23, 12, 16])"
      ]
     },
     "execution_count": 58,
     "metadata": {},
     "output_type": "execute_result"
    }
   ],
   "source": [
    "y_test_pred[:10]"
   ]
  },
  {
   "cell_type": "code",
   "execution_count": 74,
   "metadata": {},
   "outputs": [
    {
     "name": "stdout",
     "output_type": "stream",
     "text": [
      "              precision    recall  f1-score   support\n",
      "\n",
      "         ara     0.9886    0.9886    0.9886        88\n",
      "         ber     0.6311    0.7857    0.7000        98\n",
      "         bul     0.8396    0.8900    0.8641       100\n",
      "         ces     0.9885    0.9451    0.9663        91\n",
      "         cmn     0.9903    0.9808    0.9855       104\n",
      "         dan     0.9608    0.8829    0.9202       111\n",
      "         deu     0.8911    1.0000    0.9424        90\n",
      "         ell     1.0000    0.9906    0.9953       106\n",
      "         eng     0.9293    0.9485    0.9388        97\n",
      "         epo     0.9043    0.9770    0.9392        87\n",
      "         fin     0.9231    0.9908    0.9558       109\n",
      "         fra     0.9663    0.9348    0.9503        92\n",
      "         hau     0.9677    0.9375    0.9524        96\n",
      "         heb     1.0000    1.0000    1.0000        99\n",
      "         hun     0.9897    0.9697    0.9796        99\n",
      "         ina     0.8361    0.9714    0.8987       105\n",
      "         ita     0.9216    0.8952    0.9082       105\n",
      "         jpn     0.9892    0.9892    0.9892        93\n",
      "         kab     0.7531    0.5922    0.6630       103\n",
      "         lat     0.9870    0.9268    0.9560        82\n",
      "         lfn     0.9080    0.9080    0.9080        87\n",
      "         lit     1.0000    0.9444    0.9714        90\n",
      "         mar     1.0000    0.9912    0.9956       114\n",
      "         mkd     0.8367    0.8817    0.8586        93\n",
      "         nld     1.0000    0.9400    0.9691       100\n",
      "         pes     1.0000    0.9896    0.9948        96\n",
      "         pol     0.9823    0.9823    0.9823       113\n",
      "         por     0.9304    0.8992    0.9145       119\n",
      "         ron     0.9808    0.9273    0.9533       110\n",
      "         rus     0.9018    0.9352    0.9182       108\n",
      "         spa     0.9020    0.8679    0.8846       106\n",
      "         srp     0.8981    0.8151    0.8546       119\n",
      "         swc     0.9307    0.9691    0.9495        97\n",
      "         swe     0.9167    0.9340    0.9252       106\n",
      "         tlh     0.9802    0.9802    0.9802       101\n",
      "         tok     0.9910    0.9910    0.9910       111\n",
      "         tur     1.0000    0.9655    0.9825        87\n",
      "         ukr     0.9113    0.9417    0.9262       120\n",
      "         vie     1.0000    1.0000    1.0000        91\n",
      "\n",
      "    accuracy                         0.9337      3923\n",
      "   macro avg     0.9366    0.9349    0.9347      3923\n",
      "weighted avg     0.9360    0.9337    0.9338      3923\n",
      "\n"
     ]
    }
   ],
   "source": [
    "print(classification_report(y_test, y_test_pred, target_names=langs, digits=4))"
   ]
  },
  {
   "cell_type": "code",
   "execution_count": 60,
   "metadata": {},
   "outputs": [
    {
     "name": "stdout",
     "output_type": "stream",
     "text": [
      "[[ 86   0   0 ...   0   0   0]\n",
      " [  0  58   0 ...   0   0   0]\n",
      " [  0   0  79 ...   0   0   0]\n",
      " ...\n",
      " [  0   0   0 ...  84   0   0]\n",
      " [  0   0   0 ...   0 111   0]\n",
      " [  0   0   0 ...   0   0  90]]\n"
     ]
    }
   ],
   "source": [
    "print(confusion_matrix(y_test, y_test_pred))"
   ]
  },
  {
   "cell_type": "code",
   "execution_count": 61,
   "metadata": {},
   "outputs": [
    {
     "name": "stdout",
     "output_type": "stream",
     "text": [
      "Val set: \n",
      "               precision    recall  f1-score   support\n",
      "\n",
      "         ara     0.9735    0.9910    0.9821       111\n",
      "         ber     0.7864    0.7232    0.7535       112\n",
      "         bul     0.8318    0.8990    0.8641        99\n",
      "         ces     0.9292    0.9459    0.9375       111\n",
      "         cmn     0.9884    0.9659    0.9770        88\n",
      "         dan     0.8879    0.9626    0.9238       107\n",
      "         deu     0.9647    0.9535    0.9591        86\n",
      "         ell     1.0000    1.0000    1.0000        96\n",
      "         eng     0.9806    0.9099    0.9439       111\n",
      "         epo     0.9652    0.9737    0.9694       114\n",
      "         fin     0.9663    0.8958    0.9297        96\n",
      "         fra     0.9505    0.9897    0.9697        97\n",
      "         hau     0.9524    0.9524    0.9524       105\n",
      "         heb     1.0000    0.9868    0.9934        76\n",
      "         hun     0.9892    0.9583    0.9735        96\n",
      "         ina     0.8987    0.7889    0.8402        90\n",
      "         ita     0.8783    0.9352    0.9058       108\n",
      "         jpn     0.9907    0.9815    0.9860       108\n",
      "         kab     0.7664    0.7664    0.7664       107\n",
      "         lat     0.9266    0.9182    0.9224       110\n",
      "         lfn     0.9032    0.8317    0.8660       101\n",
      "         lit     0.9773    0.8958    0.9348        96\n",
      "         mar     1.0000    1.0000    1.0000        98\n",
      "         mkd     0.7705    0.9216    0.8393       102\n",
      "         nld     0.9310    0.8901    0.9101        91\n",
      "         pes     1.0000    0.9528    0.9758       106\n",
      "         pol     0.9048    0.9694    0.9360        98\n",
      "         por     0.9346    0.9259    0.9302       108\n",
      "         ron     0.9528    0.9439    0.9484       107\n",
      "         rus     0.9545    0.8485    0.8984        99\n",
      "         spa     0.8158    0.9118    0.8611       102\n",
      "         srp     0.7623    0.8378    0.7983       111\n",
      "         swc     0.8854    0.9884    0.9341        86\n",
      "         swe     0.9024    0.8810    0.8916        84\n",
      "         tlh     0.9787    0.9583    0.9684        96\n",
      "         tok     0.9907    1.0000    0.9953       106\n",
      "         tur     0.9903    0.9623    0.9761       106\n",
      "         ukr     0.9551    0.9043    0.9290        94\n",
      "         vie     0.9903    0.9903    0.9903       103\n",
      "\n",
      "    accuracy                         0.9253      3922\n",
      "   macro avg     0.9289    0.9259    0.9265      3922\n",
      "weighted avg     0.9276    0.9253    0.9255      3922\n",
      "\n"
     ]
    }
   ],
   "source": [
    "y_test_pred = evaluate(\"Val set:\",model, X_val, y_val)"
   ]
  },
  {
   "cell_type": "markdown",
   "metadata": {},
   "source": [
    "## Applying the Detector"
   ]
  },
  {
   "cell_type": "code",
   "execution_count": 62,
   "metadata": {},
   "outputs": [],
   "source": [
    "def encode(text, multihot_func, MAXES):\n",
    "    hashes = hash_ngrams(all_ngrams(text), MAXES)\n",
    "    hash_freq_l = map(rel_freqs, hashes)\n",
    "    x_row = torch.empty((0,))\n",
    "    for hash_freq_dict, max in zip(hash_freq_l, MAXES):\n",
    "        x_row = torch.hstack((x_row, multihot_func(hash_freq_dict, max)))\n",
    "    return x_row"
   ]
  },
  {
   "cell_type": "code",
   "execution_count": 63,
   "metadata": {},
   "outputs": [],
   "source": [
    "test_sents = ['Hi guys and girls!',\n",
    "'Hur mår du nu?', \n",
    "'Allt bra idag?', \n",
    "'Salut tout le monde !']"
   ]
  },
  {
   "cell_type": "code",
   "execution_count": 64,
   "metadata": {},
   "outputs": [
    {
     "name": "stdout",
     "output_type": "stream",
     "text": [
      "Hi guys and girls! eng\n",
      "Hur mår du nu? swe\n",
      "Allt bra idag? swe\n",
      "Salut tout le monde ! fra\n"
     ]
    }
   ],
   "source": [
    "for sent in test_sents:\n",
    "    if REL_FREQ:\n",
    "        row = encode(sent, multihot_freq, MAXES)\n",
    "    else:\n",
    "        row = encode(sent, multihot, MAXES)\n",
    "    print(sent, idx2lang[torch.argmax(model(row), dim=-1).item()])"
   ]
  },
  {
   "cell_type": "markdown",
   "metadata": {},
   "source": [
    "## Checking Values\n",
    "Your instructor used this piece of code to test his program\n",
    "\n",
    "line 30316 of training set: _Stanna!_\n",
    "\n",
    "The extracted values should match the vector"
   ]
  },
  {
   "cell_type": "code",
   "execution_count": 65,
   "metadata": {},
   "outputs": [
    {
     "data": {
      "text/plain": [
       "[{331: 1, 432: 1, 234: 2, 310: 2, 333: 1},\n",
       " {12: 1, 603: 1, 649: 1, 870: 1, 808: 1, 547: 1},\n",
       " {451: 1, 166: 1, 697: 1, 821: 1, 1017: 1}]"
      ]
     },
     "execution_count": 65,
     "metadata": {},
     "output_type": "execute_result"
    }
   ],
   "source": [
    "list(map(rel_freqs, hash_ngrams(all_ngrams('Stanna!'), MAXES)))"
   ]
  },
  {
   "cell_type": "code",
   "execution_count": 66,
   "metadata": {},
   "outputs": [
    {
     "data": {
      "text/plain": [
       "tensor([[ 234,  310,  331,  333,  432,  533, 1068, 1124, 1170, 1329, 1391, 1718,\n",
       "         2003, 2249, 2373, 2569]])"
      ]
     },
     "execution_count": 66,
     "metadata": {},
     "output_type": "execute_result"
    }
   ],
   "source": [
    "torch.nonzero(X_train[30316]).T"
   ]
  },
  {
   "cell_type": "code",
   "execution_count": 67,
   "metadata": {},
   "outputs": [
    {
     "data": {
      "text/plain": [
       "tensor([[0.2857, 0.2857, 0.1429, 0.1429, 0.1429, 0.1667, 0.1667, 0.1667, 0.1667,\n",
       "         0.1667, 0.1667, 0.2000, 0.2000, 0.2000, 0.2000, 0.2000]])"
      ]
     },
     "execution_count": 67,
     "metadata": {},
     "output_type": "execute_result"
    }
   ],
   "source": [
    "X_train[30316, torch.nonzero(X_train[30316])].T"
   ]
  },
  {
   "cell_type": "markdown",
   "metadata": {},
   "source": [
    "## Results\n",
    "\n",
    "You will report your results for the different methods you tried. You are only required to process the small dataset.\n",
    "\n",
    "\n",
    "| Method   |      Corpus      |  Encoding | Macro F1: Val. set| Macro F1: Test set|\n",
    "|----------|:-------------|:------|------:|------:|\n",
    "| Logistic regression |  Small | Booleans |0.9517|0.9446|\n",
    "| Logistic regression |    Large   |   Booleans |xx|xx|\n",
    "| Logistic regression |  Small |    Frequencies |0.9523|0.9505|\n",
    "| Logistic regression |  Large |    Frequencies |xx|xx|\n",
    "| Neural network |  Small | Booleans |0.7781|0.7727|\n",
    "| Neural network |    Large   |   Booleans |xx|xx|\n",
    "| Neural network |  Small |    Frequencies |0.9360|0.9363|\n",
    "| Neural network |  Large |    Frequencies |xx|xx|\n",
    "    "
   ]
  },
  {
   "cell_type": "markdown",
   "metadata": {},
   "source": []
  }
 ],
 "metadata": {
  "kernelspec": {
   "display_name": "Python 3.9.13 ('base')",
   "language": "python",
   "name": "python3"
  },
  "language_info": {
   "codemirror_mode": {
    "name": "ipython",
    "version": 3
   },
   "file_extension": ".py",
   "mimetype": "text/x-python",
   "name": "python",
   "nbconvert_exporter": "python",
   "pygments_lexer": "ipython3",
   "version": "3.11.5"
  },
  "orig_nbformat": 4,
  "vscode": {
   "interpreter": {
    "hash": "b97b11a820675205aae8f1d7f2a3f22bbd3a2c30189f44042310baf5b4cd1987"
   }
  }
 },
 "nbformat": 4,
 "nbformat_minor": 2
}
